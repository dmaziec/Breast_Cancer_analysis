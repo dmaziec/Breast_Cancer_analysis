{
 "cells": [
  {
   "cell_type": "markdown",
   "metadata": {},
   "source": [
    "# EARIN - Breast cancer predictors \n",
    "1. The aim of this script is to predict whether the cancer is benign or malignant\n",
    "2. Three main estimators built with a given learning algorithm were used\n",
    "    - RandomForestClassifier\n",
    "    - GradientBoostingClassifier\n",
    "    - BoostingClassifier\n",
    "3. Data source: https://www.kaggle.com/uciml/breast-cancer-wisconsin-data "
   ]
  },
  {
   "cell_type": "code",
   "execution_count": 55,
   "metadata": {},
   "outputs": [],
   "source": [
    "import pandas as pd\n",
    "import sklearn\n",
    "import matplotlib.pyplot as plt\n",
    "import matplotlib.gridspec as gridspec \n",
    "import numpy as np\n",
    "\n",
    "from sklearn.linear_model import LogisticRegression\n",
    "from sklearn.ensemble import RandomForestClassifier, GradientBoostingClassifier, BaggingClassifier\n",
    "from sklearn.model_selection import train_test_split\n",
    "\n",
    "from sklearn import metrics\n",
    "from sklearn.linear_model import LogisticRegression\n",
    "from sklearn.model_selection import KFold\n",
    "\n",
    "from sklearn.tree import export_graphviz, DecisionTreeClassifier\n",
    "\n",
    "from sklearn.tree import export_graphviz, DecisionTreeClassifier"
   ]
  },
  {
   "cell_type": "code",
   "execution_count": 56,
   "metadata": {},
   "outputs": [],
   "source": [
    "def run_kfold(model, data, predictors, outcome):\n",
    "    kf = KFold(n_splits=5)\n",
    "    outcomes = []\n",
    "    error = []\n",
    "    fold = 0\n",
    "    for  train, test in kf.split(data):\n",
    "      train_predictors = (data[predictors].iloc[train,:])\n",
    "      train_target = data[outcome].iloc[train]\n",
    "      model.fit(train_predictors, train_target)\n",
    "      error.append(model.score(data[predictors].iloc[test,:], data[outcome].iloc[test]))\n",
    "      print(\"Cross-Validation Score : %s\" % \"{0:.3%}\".format(np.mean(error)))\n",
    "      model.fit(data[predictors],data[outcome]) "
   ]
  },
  {
   "cell_type": "markdown",
   "metadata": {},
   "source": [
    "# Data exploration\n",
    "Below there is presented data contents. From diagnosis plot it is observed that there are more benign diagnosis. Also there is comparison of each single features and how they are distributed in order ofdiagnosis. "
   ]
  },
  {
   "cell_type": "code",
   "execution_count": 57,
   "metadata": {},
   "outputs": [
    {
     "data": {
      "text/html": [
       "<div>\n",
       "<style scoped>\n",
       "    .dataframe tbody tr th:only-of-type {\n",
       "        vertical-align: middle;\n",
       "    }\n",
       "\n",
       "    .dataframe tbody tr th {\n",
       "        vertical-align: top;\n",
       "    }\n",
       "\n",
       "    .dataframe thead th {\n",
       "        text-align: right;\n",
       "    }\n",
       "</style>\n",
       "<table border=\"1\" class=\"dataframe\">\n",
       "  <thead>\n",
       "    <tr style=\"text-align: right;\">\n",
       "      <th></th>\n",
       "      <th>diagnosis</th>\n",
       "      <th>radius_mean</th>\n",
       "      <th>texture_mean</th>\n",
       "      <th>perimeter_mean</th>\n",
       "      <th>area_mean</th>\n",
       "      <th>smoothness_mean</th>\n",
       "      <th>compactness_mean</th>\n",
       "      <th>concavity_mean</th>\n",
       "      <th>concave points_mean</th>\n",
       "      <th>symmetry_mean</th>\n",
       "      <th>...</th>\n",
       "      <th>radius_worst</th>\n",
       "      <th>texture_worst</th>\n",
       "      <th>perimeter_worst</th>\n",
       "      <th>area_worst</th>\n",
       "      <th>smoothness_worst</th>\n",
       "      <th>compactness_worst</th>\n",
       "      <th>concavity_worst</th>\n",
       "      <th>concave points_worst</th>\n",
       "      <th>symmetry_worst</th>\n",
       "      <th>fractal_dimension_worst</th>\n",
       "    </tr>\n",
       "  </thead>\n",
       "  <tbody>\n",
       "    <tr>\n",
       "      <th>270</th>\n",
       "      <td>B</td>\n",
       "      <td>14.29</td>\n",
       "      <td>16.82</td>\n",
       "      <td>90.30</td>\n",
       "      <td>632.6</td>\n",
       "      <td>0.06429</td>\n",
       "      <td>0.02675</td>\n",
       "      <td>0.00725</td>\n",
       "      <td>0.00625</td>\n",
       "      <td>0.1508</td>\n",
       "      <td>...</td>\n",
       "      <td>14.91</td>\n",
       "      <td>20.65</td>\n",
       "      <td>94.44</td>\n",
       "      <td>684.6</td>\n",
       "      <td>0.08567</td>\n",
       "      <td>0.05036</td>\n",
       "      <td>0.03866</td>\n",
       "      <td>0.03333</td>\n",
       "      <td>0.2458</td>\n",
       "      <td>0.06120</td>\n",
       "    </tr>\n",
       "    <tr>\n",
       "      <th>541</th>\n",
       "      <td>B</td>\n",
       "      <td>14.47</td>\n",
       "      <td>24.99</td>\n",
       "      <td>95.81</td>\n",
       "      <td>656.4</td>\n",
       "      <td>0.08837</td>\n",
       "      <td>0.12300</td>\n",
       "      <td>0.10090</td>\n",
       "      <td>0.03890</td>\n",
       "      <td>0.1872</td>\n",
       "      <td>...</td>\n",
       "      <td>16.22</td>\n",
       "      <td>31.73</td>\n",
       "      <td>113.50</td>\n",
       "      <td>808.9</td>\n",
       "      <td>0.13400</td>\n",
       "      <td>0.42020</td>\n",
       "      <td>0.40400</td>\n",
       "      <td>0.12050</td>\n",
       "      <td>0.3187</td>\n",
       "      <td>0.10230</td>\n",
       "    </tr>\n",
       "    <tr>\n",
       "      <th>131</th>\n",
       "      <td>M</td>\n",
       "      <td>15.46</td>\n",
       "      <td>19.48</td>\n",
       "      <td>101.70</td>\n",
       "      <td>748.9</td>\n",
       "      <td>0.10920</td>\n",
       "      <td>0.12230</td>\n",
       "      <td>0.14660</td>\n",
       "      <td>0.08087</td>\n",
       "      <td>0.1931</td>\n",
       "      <td>...</td>\n",
       "      <td>19.26</td>\n",
       "      <td>26.00</td>\n",
       "      <td>124.90</td>\n",
       "      <td>1156.0</td>\n",
       "      <td>0.15460</td>\n",
       "      <td>0.23940</td>\n",
       "      <td>0.37910</td>\n",
       "      <td>0.15140</td>\n",
       "      <td>0.2837</td>\n",
       "      <td>0.08019</td>\n",
       "    </tr>\n",
       "    <tr>\n",
       "      <th>174</th>\n",
       "      <td>B</td>\n",
       "      <td>10.66</td>\n",
       "      <td>15.15</td>\n",
       "      <td>67.49</td>\n",
       "      <td>349.6</td>\n",
       "      <td>0.08792</td>\n",
       "      <td>0.04302</td>\n",
       "      <td>0.00000</td>\n",
       "      <td>0.00000</td>\n",
       "      <td>0.1928</td>\n",
       "      <td>...</td>\n",
       "      <td>11.54</td>\n",
       "      <td>19.20</td>\n",
       "      <td>73.20</td>\n",
       "      <td>408.3</td>\n",
       "      <td>0.10760</td>\n",
       "      <td>0.06791</td>\n",
       "      <td>0.00000</td>\n",
       "      <td>0.00000</td>\n",
       "      <td>0.2710</td>\n",
       "      <td>0.06164</td>\n",
       "    </tr>\n",
       "    <tr>\n",
       "      <th>380</th>\n",
       "      <td>B</td>\n",
       "      <td>11.27</td>\n",
       "      <td>12.96</td>\n",
       "      <td>73.16</td>\n",
       "      <td>386.3</td>\n",
       "      <td>0.12370</td>\n",
       "      <td>0.11110</td>\n",
       "      <td>0.07900</td>\n",
       "      <td>0.05550</td>\n",
       "      <td>0.2018</td>\n",
       "      <td>...</td>\n",
       "      <td>12.84</td>\n",
       "      <td>20.53</td>\n",
       "      <td>84.93</td>\n",
       "      <td>476.1</td>\n",
       "      <td>0.16100</td>\n",
       "      <td>0.24290</td>\n",
       "      <td>0.22470</td>\n",
       "      <td>0.13180</td>\n",
       "      <td>0.3343</td>\n",
       "      <td>0.09215</td>\n",
       "    </tr>\n",
       "  </tbody>\n",
       "</table>\n",
       "<p>5 rows × 31 columns</p>\n",
       "</div>"
      ],
      "text/plain": [
       "    diagnosis  radius_mean  texture_mean  perimeter_mean  area_mean  \\\n",
       "270         B        14.29         16.82           90.30      632.6   \n",
       "541         B        14.47         24.99           95.81      656.4   \n",
       "131         M        15.46         19.48          101.70      748.9   \n",
       "174         B        10.66         15.15           67.49      349.6   \n",
       "380         B        11.27         12.96           73.16      386.3   \n",
       "\n",
       "     smoothness_mean  compactness_mean  concavity_mean  concave points_mean  \\\n",
       "270          0.06429           0.02675         0.00725              0.00625   \n",
       "541          0.08837           0.12300         0.10090              0.03890   \n",
       "131          0.10920           0.12230         0.14660              0.08087   \n",
       "174          0.08792           0.04302         0.00000              0.00000   \n",
       "380          0.12370           0.11110         0.07900              0.05550   \n",
       "\n",
       "     symmetry_mean  ...  radius_worst  texture_worst  perimeter_worst  \\\n",
       "270         0.1508  ...         14.91          20.65            94.44   \n",
       "541         0.1872  ...         16.22          31.73           113.50   \n",
       "131         0.1931  ...         19.26          26.00           124.90   \n",
       "174         0.1928  ...         11.54          19.20            73.20   \n",
       "380         0.2018  ...         12.84          20.53            84.93   \n",
       "\n",
       "     area_worst  smoothness_worst  compactness_worst  concavity_worst  \\\n",
       "270       684.6           0.08567            0.05036          0.03866   \n",
       "541       808.9           0.13400            0.42020          0.40400   \n",
       "131      1156.0           0.15460            0.23940          0.37910   \n",
       "174       408.3           0.10760            0.06791          0.00000   \n",
       "380       476.1           0.16100            0.24290          0.22470   \n",
       "\n",
       "     concave points_worst  symmetry_worst  fractal_dimension_worst  \n",
       "270               0.03333          0.2458                  0.06120  \n",
       "541               0.12050          0.3187                  0.10230  \n",
       "131               0.15140          0.2837                  0.08019  \n",
       "174               0.00000          0.2710                  0.06164  \n",
       "380               0.13180          0.3343                  0.09215  \n",
       "\n",
       "[5 rows x 31 columns]"
      ]
     },
     "execution_count": 57,
     "metadata": {},
     "output_type": "execute_result"
    }
   ],
   "source": [
    "data = pd.read_csv('data.csv')\n",
    "\n",
    "data.drop('id', axis=1,inplace=True)\n",
    "data.sample(5)\n",
    "#data.diagnosis.unique()\n"
   ]
  },
  {
   "cell_type": "code",
   "execution_count": 58,
   "metadata": {
    "scrolled": false
   },
   "outputs": [
    {
     "data": {
      "image/png": "[encoded data removed]",
      "text/plain": [
       "<Figure size 432x288 with 1 Axes>"
      ]
     },
     "metadata": {
      "needs_background": "light"
     },
     "output_type": "display_data"
    }
   ],
   "source": [
    "data['diagnosis'].value_counts().plot(kind='bar')\n",
    "plt.xlabel(\"Diagnosis type\", labelpad=14)\n",
    "plt.ylabel(\"Count of diagnosis\", labelpad=14)\n",
    "plt.title(\"Diagnosis\", y=1.02)\n",
    "plt.show()\n"
   ]
  },
  {
   "cell_type": "code",
   "execution_count": 59,
   "metadata": {},
   "outputs": [
    {
     "name": "stdout",
     "output_type": "stream",
     "text": [
      "0.42257999999999996\n",
      "0.5914\n",
      "2.8942\n",
      "47.15\n",
      "0.0022153999999999997\n",
      "0.006520399999999999\n",
      "0.008536\n",
      "0.004024\n",
      "0.00396\n",
      "0.0009495999999999999\n"
     ]
    },
    {
     "data": {
      "image/png": "[encoded data removed]",
      "text/plain": [
       "<Figure size 576x720 with 10 Axes>"
      ]
     },
     "metadata": {
      "needs_background": "light"
     },
     "output_type": "display_data"
    }
   ],
   "source": [
    "features_mean=list(data.columns[1:11])\n",
    "fig, axes = plt.subplots(nrows=5, ncols=2, figsize=(8,10))\n",
    "dfM=data[data['diagnosis'] =='M']\n",
    "dfB=data[data['diagnosis'] =='B']\n",
    "axes = axes.ravel()\n",
    "data['diagnosis'] = data['diagnosis'].map({'M':1,'B':0})\n",
    "for idx,ax in enumerate(axes):\n",
    "    ax.figure\n",
    "    binwidth= (max(data[features_mean[idx]]) - min(data[features_mean[idx]]))/50\n",
    "    print (binwidth)\n",
    "    ax.hist([dfM[features_mean[idx]],dfB[features_mean[idx]]],label=['M','B'])\n",
    "    ax.set_title(features_mean[idx])\n",
    "    ax.legend(loc='upper right')\n",
    "\n",
    "plt.tight_layout()\n",
    "plt.show()"
   ]
  },
  {
   "cell_type": "markdown",
   "metadata": {},
   "source": [
    "# Observations \n",
    "Following features could be good to predict deasis:\n",
    "- perimeter\n",
    "- area\n",
    "- concave\n",
    "- radius\n",
    "- compactness\n",
    "- concavity"
   ]
  },
  {
   "cell_type": "markdown",
   "metadata": {},
   "source": [
    "\n",
    "# ROC \n",
    "Compute Area Under the Receiver Operating Characteristic Curve (ROC AUC) from prediction scores."
   ]
  },
  {
   "cell_type": "code",
   "execution_count": 60,
   "metadata": {},
   "outputs": [],
   "source": [
    "def baseline_score(model, data):\n",
    "    outcome_var = 'diagnosis'\n",
    "    predictor_var = ['concave points_mean','area_mean','radius_mean','perimeter_mean','concavity_mean']\n",
    "    preds_model = model.predict_proba(data[predictor_var])[:,1]\n",
    "    model_roc_auc = metrics.roc_auc_score(data[outcome_var], preds_model)\n",
    "    print('The baseline score on the test set is {:.4f}.'.format(model_roc_auc))\n",
    "    \n",
    "    return model_roc_auc"
   ]
  },
  {
   "cell_type": "markdown",
   "metadata": {},
   "source": [
    "# Tested parameters \n",
    "The aim of this reasearch is to examine Random Forest, Gradient Boostin or Bagging algorithms in the same specification of trees and compare the results. Two different tree environment was prepared - very poor and more advanced trees. At the end ROC graphs are combined into one graph. \n",
    "\n",
    "Parameters of single small tree: \n",
    "- The number of trees: 2\n",
    "- The function to measure the quality of a split: entropy\n",
    "- The minimum number of samples required to split an internal node: 2\n",
    "- The maximum depth of single tree: 1\n",
    "- Complexity parameter used for Minimal Cost-Complexity Pruning: 0.0\n",
    "\n",
    "Paramters of single big tree: \n",
    "- The number of trees: 100\n",
    "- The function to measure the quality of a split: entropy\n",
    "- The minimum number of samples required to split an internal node: 2\n",
    "- The maximum depth of single tree: 10\n",
    "- Complexity parameter used for Minimal Cost-Complexity Pruning: 0.0"
   ]
  },
  {
   "cell_type": "code",
   "execution_count": 61,
   "metadata": {},
   "outputs": [
    {
     "name": "stdout",
     "output_type": "stream",
     "text": [
      "Performance on test dataset for poor model\n",
      "Cross-Validation Score : 96.250%\n",
      "Cross-Validation Score : 94.375%\n",
      "Cross-Validation Score : 93.333%\n",
      "Cross-Validation Score : 92.468%\n",
      "Cross-Validation Score : 90.937%\n",
      "The baseline score on the test set is 0.9027.\n"
     ]
    }
   ],
   "source": [
    "traindf, testdf = train_test_split(data, test_size = 0.3)\n",
    "predictor_var = ['concave points_mean','area_mean','radius_mean','perimeter_mean','concavity_mean']\n",
    "model = RandomForestClassifier(n_estimators=2,ccp_alpha = 0.0, criterion = \"entropy\",min_samples_split=2, max_depth=1, max_features=len(predictor_var))\n",
    "outcome_var = 'diagnosis'\n",
    "out = ['1','0']\n",
    "#run_kfold(model, traindf,predictor_var, outcome_var)\n",
    "\n",
    "\n",
    "print(\"Performance on test dataset for poor model\")\n",
    "run_kfold(model, traindf,predictor_var, outcome_var)\n",
    "rf_1_roc_auc = baseline_score(model,testdf)\n",
    "rf_1_fpr, rf_1_tpr, rf_1_thresholds = metrics.roc_curve(testdf[outcome_var], model.predict_proba(testdf[predictor_var])[:,1])\n",
    "\n",
    "#plt.plot(rf_fpr, rf_tpr, label='RF (area = %0.4f)' % rf_roc_auc)\n",
    "estimator = model.estimators_[0]\n",
    "export_graphviz(estimator, \n",
    "                out_file='RandomForestTree_noprunning.dot', \n",
    "                feature_names = predictor_var,\n",
    "                class_names = out,\n",
    "                rounded = True, proportion = False, \n",
    "                precision = 2, filled = True)"
   ]
  },
  {
   "cell_type": "markdown",
   "metadata": {},
   "source": [
    "# Random Forest Classifier "
   ]
  },
  {
   "cell_type": "code",
   "execution_count": 62,
   "metadata": {},
   "outputs": [
    {
     "name": "stdout",
     "output_type": "stream",
     "text": [
      "Performance on test dataset for advanced model\n",
      "Cross-Validation Score : 96.250%\n",
      "Cross-Validation Score : 94.375%\n",
      "Cross-Validation Score : 94.167%\n",
      "Cross-Validation Score : 92.777%\n",
      "Cross-Validation Score : 91.943%\n",
      "The baseline score on the test set is 0.9781.\n"
     ]
    }
   ],
   "source": [
    "model_advanced = RandomForestClassifier(n_estimators=100,ccp_alpha = 0.0, criterion = \"entropy\",min_samples_split=2, max_depth=10, max_features=5)\n",
    "\n",
    "print(\"Performance on test dataset for advanced model\")\n",
    "run_kfold(model_advanced, traindf,predictor_var, outcome_var)\n",
    "rf_2_roc_auc = baseline_score(model_advanced,testdf)\n",
    "rf_2_fpr, rf_2_tpr, rf_2_thresholds = metrics.roc_curve(testdf[outcome_var], model_advanced.predict_proba(testdf[predictor_var])[:,1])\n",
    "\n",
    "estimator = model_advanced.estimators_[0]\n",
    "export_graphviz(estimator, \n",
    "                out_file='RandomForestTree_better.dot', \n",
    "                feature_names = predictor_var,\n",
    "                class_names = out,\n",
    "                rounded = True, proportion = False, \n",
    "                precision = 2, filled = True)"
   ]
  },
  {
   "cell_type": "markdown",
   "metadata": {},
   "source": [
    "# Gradient Boosting Classifier \n"
   ]
  },
  {
   "cell_type": "code",
   "execution_count": 63,
   "metadata": {
    "scrolled": true
   },
   "outputs": [
    {
     "name": "stdout",
     "output_type": "stream",
     "text": [
      "Performance on test dataset\n",
      "Cross-Validation Score : 68.750%\n",
      "Cross-Validation Score : 65.000%\n",
      "Cross-Validation Score : 59.583%\n",
      "Cross-Validation Score : 60.194%\n",
      "Cross-Validation Score : 61.320%\n",
      "The baseline score on the test set is 0.9120.\n"
     ]
    }
   ],
   "source": [
    "model = GradientBoostingClassifier(ccp_alpha = 0.0,n_estimators=2, min_samples_split=2, max_depth=1, max_features=5)\n",
    "outcome_var = 'diagnosis'\n",
    "out = ['1','0']\n",
    "\n",
    "print(\"Performance on test dataset\")\n",
    "run_kfold(model, traindf,predictor_var, outcome_var)\n",
    "\n",
    "gb_roc_auc = baseline_score(model,testdf)\n",
    "gb_fpr, gb_tpr, gb_thresholds = metrics.roc_curve(testdf[outcome_var], model.predict_proba(testdf[predictor_var])[:,1])\n"
   ]
  },
  {
   "cell_type": "code",
   "execution_count": 64,
   "metadata": {},
   "outputs": [
    {
     "name": "stdout",
     "output_type": "stream",
     "text": [
      "Performance on test dataset\n",
      "Cross-Validation Score : 95.000%\n",
      "Cross-Validation Score : 93.125%\n",
      "Cross-Validation Score : 92.083%\n",
      "Cross-Validation Score : 91.214%\n",
      "Cross-Validation Score : 89.680%\n",
      "The baseline score on the test set is 0.9315.\n"
     ]
    }
   ],
   "source": [
    "model_advanced = GradientBoostingClassifier(ccp_alpha = 0.0,n_estimators=100, min_samples_split=2, max_depth=10, max_features=5)\n",
    "outcome_var = 'diagnosis'\n",
    "out = ['1','0']\n",
    "\n",
    "print(\"Performance on test dataset\")\n",
    "run_kfold(model_advanced, traindf,predictor_var, outcome_var)\n",
    "\n",
    "gb_2_roc_auc = baseline_score(model_advanced,testdf)\n",
    "gb_2_fpr, gb_2_tpr, gb_2_thresholds = metrics.roc_curve(testdf[outcome_var], model.predict_proba(testdf[predictor_var])[:,1])\n"
   ]
  },
  {
   "cell_type": "markdown",
   "metadata": {},
   "source": [
    "# Bagging Classifier "
   ]
  },
  {
   "cell_type": "code",
   "execution_count": 65,
   "metadata": {},
   "outputs": [
    {
     "name": "stdout",
     "output_type": "stream",
     "text": [
      "Performance on test dataset\n",
      "Cross-Validation Score : 95.000%\n",
      "Cross-Validation Score : 91.875%\n",
      "Cross-Validation Score : 91.250%\n",
      "Cross-Validation Score : 90.906%\n",
      "Cross-Validation Score : 89.180%\n",
      "The baseline score on the test set is 0.9356.\n"
     ]
    }
   ],
   "source": [
    "model = BaggingClassifier(n_estimators=2)\n",
    "outcome_var = 'diagnosis'\n",
    "out = ['1','0']\n",
    "print(\"Performance on test dataset\")\n",
    "run_kfold(model, traindf,predictor_var, outcome_var)\n",
    "b_roc_auc = baseline_score(model,testdf)\n",
    "b_fpr, b_tpr, b_thresholds = metrics.roc_curve(testdf[outcome_var], model.predict_proba(testdf[predictor_var])[:,1])\n",
    "\n",
    "\n"
   ]
  },
  {
   "cell_type": "code",
   "execution_count": 66,
   "metadata": {},
   "outputs": [
    {
     "name": "stdout",
     "output_type": "stream",
     "text": [
      "Performance on test dataset\n",
      "Cross-Validation Score : 95.000%\n",
      "Cross-Validation Score : 93.750%\n",
      "Cross-Validation Score : 93.750%\n",
      "Cross-Validation Score : 92.464%\n",
      "Cross-Validation Score : 91.693%\n",
      "The baseline score on the test set is 0.9778.\n"
     ]
    }
   ],
   "source": [
    "model_advanced = BaggingClassifier(base_estimator = DecisionTreeClassifier(criterion='entropy', max_depth=10), n_estimators=100)\n",
    "print(\"Performance on test dataset\")\n",
    "run_kfold(model_advanced, traindf,predictor_var, outcome_var)\n",
    "b_2_roc_auc = baseline_score(model_advanced,testdf)\n",
    "b_2_fpr, b_2_tpr, b_2_thresholds = metrics.roc_curve(testdf[outcome_var], model_advanced.predict_proba(testdf[predictor_var])[:,1])\n",
    "\n",
    "estimator = model_advanced.estimators_[0]\n",
    "export_graphviz(estimator, \n",
    "                out_file='BaggingClassifier_100.dot', \n",
    "                feature_names = predictor_var,\n",
    "                class_names = out,\n",
    "                rounded = True, proportion = False, \n",
    "                precision = 2, filled = True)\n"
   ]
  },
  {
   "cell_type": "markdown",
   "metadata": {},
   "source": [
    "# Conclusion\n",
    "Three tested estimators have high perfomance. From the above ROC graph it can be observed that the best estimator is Random Forest Classifier.  "
   ]
  },
  {
   "cell_type": "code",
   "execution_count": 67,
   "metadata": {
    "scrolled": true
   },
   "outputs": [
    {
     "data": {
      "image/png": "[encoded data removed]",
      "text/plain": [
       "<Figure size 432x288 with 1 Axes>"
      ]
     },
     "metadata": {
      "needs_background": "light"
     },
     "output_type": "display_data"
    }
   ],
   "source": [
    "#Plotting\n",
    "plt.plot(gb_fpr, gb_tpr, label='GB (area = %0.4f) n_estimators=2' % gb_roc_auc)\n",
    "plt.plot(gb_2_fpr, gb_2_tpr, label='GB (area = %0.4f) n_estimators=100' % gb_2_roc_auc)\n",
    "plt.plot(b_fpr, b_tpr, label='B (area = %0.4f) n_estimators=2 ' % b_roc_auc)\n",
    "plt.plot(b_2_fpr, b_2_tpr, label='B (area = %0.4f) n_estimators=100 ' % b_2_roc_auc)\n",
    "plt.plot(rf_1_fpr, rf_1_tpr, label='RF (area = %0.4f) n_estimators=2' % rf_1_roc_auc)\n",
    "plt.plot(rf_2_fpr, rf_2_tpr, label='RF (area = %0.4f) n_estimators=100' % rf_2_roc_auc)\n",
    "plt.xlabel('False Positive Rate')\n",
    "plt.ylabel('True Positive Rate')\n",
    "plt.title('ROC Graph')\n",
    "plt.legend(loc=\"lower right\")\n",
    "plt.show()\n"
   ]
  },
  {
   "cell_type": "markdown",
   "metadata": {},
   "source": [
    "During this reasearch we examined three the most popular estimators - Random Forest, Gradient Boosting and Bagging. The most accurate is Random Forest classifier. It is said that more number of estimators are picked it may results in better estimation. However, the best one Random Forest is with only one estimator. It is correleted with input data from which we can observe that 'concavity mean' parameter groups straight forward two outcome parameters. But it  should not be the only one and crucial parameter, because it may lead to overtraining of classification model having different dataset. In this case, increasing number of estimators it reduces prediction of classifier, but it gives opportunity to consider others dependencies. So, as a result we can sum up this research that number of estimators should be considered and tested with different values. But we should keep in mind that the more features are considered the more sensitve estimator is. "
   ]
  }
 ],
 "metadata": {
  "kernelspec": {
   "display_name": "Python 3",
   "language": "python",
   "name": "python3"
  },
  "language_info": {
   "codemirror_mode": {
    "name": "ipython",
    "version": 3
   },
   "file_extension": ".py",
   "mimetype": "text/x-python",
   "name": "python",
   "nbconvert_exporter": "python",
   "pygments_lexer": "ipython3",
   "version": "3.6.10"
  }
 },
 "nbformat": 4,
 "nbformat_minor": 4
}
