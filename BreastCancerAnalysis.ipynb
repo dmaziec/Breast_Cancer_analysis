{
 "cells": [
  {
   "cell_type": "markdown",
   "metadata": {},
   "source": [
    "# EARIN - Breast cancer predictors \n",
    "1. The aim of this script is to predict whether the cancer is benign or malignant\n",
    "2. Three main estimators built with a given learning algorithm were used\n",
    "    - RandomForestClassifier\n",
    "    - GradientBoostingClassifier\n",
    "    - BoostingClassifier\n",
    "3. Data source: https://www.kaggle.com/uciml/breast-cancer-wisconsin-data "
   ]
  },
  {
   "cell_type": "code",
   "execution_count": 622,
   "metadata": {},
   "outputs": [],
   "source": [
    "import pandas as pd\n",
    "import sklearn\n",
    "import matplotlib.pyplot as plt\n",
    "import matplotlib.gridspec as gridspec \n",
    "import numpy as np\n",
    "\n",
    "from sklearn.linear_model import LogisticRegression\n",
    "from sklearn.ensemble import RandomForestClassifier, GradientBoostingClassifier, BaggingClassifier\n",
    "from sklearn.model_selection import train_test_split\n",
    "\n",
    "from sklearn import metrics\n",
    "from sklearn.linear_model import LogisticRegression\n",
    "from sklearn.model_selection import KFold\n",
    "\n",
    "from sklearn.tree import export_graphviz, DecisionTreeClassifier\n",
    "\n",
    "from sklearn.tree import export_graphviz, DecisionTreeClassifier"
   ]
  },
  {
   "cell_type": "code",
   "execution_count": 623,
   "metadata": {},
   "outputs": [],
   "source": [
    "def run_kfold(model, data, predictors, outcome):\n",
    "    kf = KFold(n_splits=5)\n",
    "    outcomes = []\n",
    "    error = []\n",
    "    fold = 0\n",
    "    for  train, test in kf.split(data):\n",
    "      train_predictors = (data[predictors].iloc[train,:])\n",
    "      train_target = data[outcome].iloc[train]\n",
    "      model.fit(train_predictors, train_target)\n",
    "      error.append(model.score(data[predictors].iloc[test,:], data[outcome].iloc[test]))\n",
    "      print(\"Cross-Validation Score : %s\" % \"{0:.3%}\".format(np.mean(error)))\n",
    "      model.fit(data[predictors],data[outcome]) "
   ]
  },
  {
   "cell_type": "markdown",
   "metadata": {},
   "source": [
    "# Data exploration\n",
    "Below there is presented data contents. From diagnosis plot it is observed that there are more benign diagnosis. Also there is comparison of each single features and how they are distributed in order ofdiagnosis. "
   ]
  },
  {
   "cell_type": "code",
   "execution_count": 624,
   "metadata": {},
   "outputs": [
    {
     "data": {
      "text/html": [
       "<div>\n",
       "<style scoped>\n",
       "    .dataframe tbody tr th:only-of-type {\n",
       "        vertical-align: middle;\n",
       "    }\n",
       "\n",
       "    .dataframe tbody tr th {\n",
       "        vertical-align: top;\n",
       "    }\n",
       "\n",
       "    .dataframe thead th {\n",
       "        text-align: right;\n",
       "    }\n",
       "</style>\n",
       "<table border=\"1\" class=\"dataframe\">\n",
       "  <thead>\n",
       "    <tr style=\"text-align: right;\">\n",
       "      <th></th>\n",
       "      <th>diagnosis</th>\n",
       "      <th>radius_mean</th>\n",
       "      <th>texture_mean</th>\n",
       "      <th>perimeter_mean</th>\n",
       "      <th>area_mean</th>\n",
       "      <th>smoothness_mean</th>\n",
       "      <th>compactness_mean</th>\n",
       "      <th>concavity_mean</th>\n",
       "      <th>concave points_mean</th>\n",
       "      <th>symmetry_mean</th>\n",
       "      <th>...</th>\n",
       "      <th>radius_worst</th>\n",
       "      <th>texture_worst</th>\n",
       "      <th>perimeter_worst</th>\n",
       "      <th>area_worst</th>\n",
       "      <th>smoothness_worst</th>\n",
       "      <th>compactness_worst</th>\n",
       "      <th>concavity_worst</th>\n",
       "      <th>concave points_worst</th>\n",
       "      <th>symmetry_worst</th>\n",
       "      <th>fractal_dimension_worst</th>\n",
       "    </tr>\n",
       "  </thead>\n",
       "  <tbody>\n",
       "    <tr>\n",
       "      <th>189</th>\n",
       "      <td>B</td>\n",
       "      <td>12.30</td>\n",
       "      <td>15.90</td>\n",
       "      <td>78.83</td>\n",
       "      <td>463.7</td>\n",
       "      <td>0.08080</td>\n",
       "      <td>0.07253</td>\n",
       "      <td>0.03844</td>\n",
       "      <td>0.01654</td>\n",
       "      <td>0.1667</td>\n",
       "      <td>...</td>\n",
       "      <td>13.35</td>\n",
       "      <td>19.59</td>\n",
       "      <td>86.65</td>\n",
       "      <td>546.7</td>\n",
       "      <td>0.1096</td>\n",
       "      <td>0.16500</td>\n",
       "      <td>0.14230</td>\n",
       "      <td>0.04815</td>\n",
       "      <td>0.2482</td>\n",
       "      <td>0.06306</td>\n",
       "    </tr>\n",
       "    <tr>\n",
       "      <th>91</th>\n",
       "      <td>M</td>\n",
       "      <td>15.37</td>\n",
       "      <td>22.76</td>\n",
       "      <td>100.20</td>\n",
       "      <td>728.2</td>\n",
       "      <td>0.09200</td>\n",
       "      <td>0.10360</td>\n",
       "      <td>0.11220</td>\n",
       "      <td>0.07483</td>\n",
       "      <td>0.1717</td>\n",
       "      <td>...</td>\n",
       "      <td>16.43</td>\n",
       "      <td>25.84</td>\n",
       "      <td>107.50</td>\n",
       "      <td>830.9</td>\n",
       "      <td>0.1257</td>\n",
       "      <td>0.19970</td>\n",
       "      <td>0.28460</td>\n",
       "      <td>0.14760</td>\n",
       "      <td>0.2556</td>\n",
       "      <td>0.06828</td>\n",
       "    </tr>\n",
       "    <tr>\n",
       "      <th>108</th>\n",
       "      <td>M</td>\n",
       "      <td>22.27</td>\n",
       "      <td>19.67</td>\n",
       "      <td>152.80</td>\n",
       "      <td>1509.0</td>\n",
       "      <td>0.13260</td>\n",
       "      <td>0.27680</td>\n",
       "      <td>0.42640</td>\n",
       "      <td>0.18230</td>\n",
       "      <td>0.2556</td>\n",
       "      <td>...</td>\n",
       "      <td>28.40</td>\n",
       "      <td>28.01</td>\n",
       "      <td>206.80</td>\n",
       "      <td>2360.0</td>\n",
       "      <td>0.1701</td>\n",
       "      <td>0.69970</td>\n",
       "      <td>0.96080</td>\n",
       "      <td>0.29100</td>\n",
       "      <td>0.4055</td>\n",
       "      <td>0.09789</td>\n",
       "    </tr>\n",
       "    <tr>\n",
       "      <th>241</th>\n",
       "      <td>B</td>\n",
       "      <td>12.42</td>\n",
       "      <td>15.04</td>\n",
       "      <td>78.61</td>\n",
       "      <td>476.5</td>\n",
       "      <td>0.07926</td>\n",
       "      <td>0.03393</td>\n",
       "      <td>0.01053</td>\n",
       "      <td>0.01108</td>\n",
       "      <td>0.1546</td>\n",
       "      <td>...</td>\n",
       "      <td>13.20</td>\n",
       "      <td>20.37</td>\n",
       "      <td>83.85</td>\n",
       "      <td>543.4</td>\n",
       "      <td>0.1037</td>\n",
       "      <td>0.07776</td>\n",
       "      <td>0.06243</td>\n",
       "      <td>0.04052</td>\n",
       "      <td>0.2901</td>\n",
       "      <td>0.06783</td>\n",
       "    </tr>\n",
       "    <tr>\n",
       "      <th>73</th>\n",
       "      <td>M</td>\n",
       "      <td>13.80</td>\n",
       "      <td>15.79</td>\n",
       "      <td>90.43</td>\n",
       "      <td>584.1</td>\n",
       "      <td>0.10070</td>\n",
       "      <td>0.12800</td>\n",
       "      <td>0.07789</td>\n",
       "      <td>0.05069</td>\n",
       "      <td>0.1662</td>\n",
       "      <td>...</td>\n",
       "      <td>16.57</td>\n",
       "      <td>20.86</td>\n",
       "      <td>110.30</td>\n",
       "      <td>812.4</td>\n",
       "      <td>0.1411</td>\n",
       "      <td>0.35420</td>\n",
       "      <td>0.27790</td>\n",
       "      <td>0.13830</td>\n",
       "      <td>0.2589</td>\n",
       "      <td>0.10300</td>\n",
       "    </tr>\n",
       "  </tbody>\n",
       "</table>\n",
       "<p>5 rows × 31 columns</p>\n",
       "</div>"
      ],
      "text/plain": [
       "    diagnosis  radius_mean  texture_mean  perimeter_mean  area_mean  \\\n",
       "189         B        12.30         15.90           78.83      463.7   \n",
       "91          M        15.37         22.76          100.20      728.2   \n",
       "108         M        22.27         19.67          152.80     1509.0   \n",
       "241         B        12.42         15.04           78.61      476.5   \n",
       "73          M        13.80         15.79           90.43      584.1   \n",
       "\n",
       "     smoothness_mean  compactness_mean  concavity_mean  concave points_mean  \\\n",
       "189          0.08080           0.07253         0.03844              0.01654   \n",
       "91           0.09200           0.10360         0.11220              0.07483   \n",
       "108          0.13260           0.27680         0.42640              0.18230   \n",
       "241          0.07926           0.03393         0.01053              0.01108   \n",
       "73           0.10070           0.12800         0.07789              0.05069   \n",
       "\n",
       "     symmetry_mean  ...  radius_worst  texture_worst  perimeter_worst  \\\n",
       "189         0.1667  ...         13.35          19.59            86.65   \n",
       "91          0.1717  ...         16.43          25.84           107.50   \n",
       "108         0.2556  ...         28.40          28.01           206.80   \n",
       "241         0.1546  ...         13.20          20.37            83.85   \n",
       "73          0.1662  ...         16.57          20.86           110.30   \n",
       "\n",
       "     area_worst  smoothness_worst  compactness_worst  concavity_worst  \\\n",
       "189       546.7            0.1096            0.16500          0.14230   \n",
       "91        830.9            0.1257            0.19970          0.28460   \n",
       "108      2360.0            0.1701            0.69970          0.96080   \n",
       "241       543.4            0.1037            0.07776          0.06243   \n",
       "73        812.4            0.1411            0.35420          0.27790   \n",
       "\n",
       "     concave points_worst  symmetry_worst  fractal_dimension_worst  \n",
       "189               0.04815          0.2482                  0.06306  \n",
       "91                0.14760          0.2556                  0.06828  \n",
       "108               0.29100          0.4055                  0.09789  \n",
       "241               0.04052          0.2901                  0.06783  \n",
       "73                0.13830          0.2589                  0.10300  \n",
       "\n",
       "[5 rows x 31 columns]"
      ]
     },
     "execution_count": 624,
     "metadata": {},
     "output_type": "execute_result"
    }
   ],
   "source": [
    "data = pd.read_csv('data.csv')\n",
    "\n",
    "data.drop('id', axis=1,inplace=True)\n",
    "data.sample(5)\n",
    "#data.diagnosis.unique()\n"
   ]
  },
  {
   "cell_type": "code",
   "execution_count": 625,
   "metadata": {
    "scrolled": false
   },
   "outputs": [
    {
     "data": {
      "image/png": "[encoded data removed]",
      "text/plain": [
       "<Figure size 432x288 with 1 Axes>"
      ]
     },
     "metadata": {
      "needs_background": "light"
     },
     "output_type": "display_data"
    }
   ],
   "source": [
    "data['diagnosis'].value_counts().plot(kind='bar')\n",
    "plt.xlabel(\"Diagnosis type\", labelpad=14)\n",
    "plt.ylabel(\"Count of diagnosis\", labelpad=14)\n",
    "plt.title(\"Diagnosis\", y=1.02)\n",
    "plt.show()\n"
   ]
  },
  {
   "cell_type": "code",
   "execution_count": 626,
   "metadata": {},
   "outputs": [
    {
     "name": "stdout",
     "output_type": "stream",
     "text": [
      "0.42257999999999996\n",
      "0.5914\n",
      "2.8942\n",
      "47.15\n",
      "0.0022153999999999997\n",
      "0.006520399999999999\n",
      "0.008536\n",
      "0.004024\n",
      "0.00396\n",
      "0.0009495999999999999\n"
     ]
    },
    {
     "data": {
      "image/png": "[encoded data removed]",
      "text/plain": [
       "<Figure size 576x720 with 10 Axes>"
      ]
     },
     "metadata": {
      "needs_background": "light"
     },
     "output_type": "display_data"
    }
   ],
   "source": [
    "features_mean=list(data.columns[1:11])\n",
    "fig, axes = plt.subplots(nrows=5, ncols=2, figsize=(8,10))\n",
    "dfM=data[data['diagnosis'] =='M']\n",
    "dfB=data[data['diagnosis'] =='B']\n",
    "axes = axes.ravel()\n",
    "data['diagnosis'] = data['diagnosis'].map({'M':1,'B':0})\n",
    "for idx,ax in enumerate(axes):\n",
    "    ax.figure\n",
    "    binwidth= (max(data[features_mean[idx]]) - min(data[features_mean[idx]]))/50\n",
    "    print (binwidth)\n",
    "    ax.hist([dfM[features_mean[idx]],dfB[features_mean[idx]]],label=['M','B'])\n",
    "    ax.set_title(features_mean[idx])\n",
    "    ax.legend(loc='upper right')\n",
    "\n",
    "plt.tight_layout()\n",
    "plt.show()"
   ]
  },
  {
   "cell_type": "markdown",
   "metadata": {},
   "source": [
    "# Observations \n",
    "Following features could be good to predict deasis:\n",
    "- perimeter\n",
    "- area\n",
    "- concave\n",
    "- radius\n",
    "- compactness\n",
    "- concavity"
   ]
  },
  {
   "cell_type": "markdown",
   "metadata": {},
   "source": [
    "\n",
    "# ROC \n",
    "Compute Area Under the Receiver Operating Characteristic Curve (ROC AUC) from prediction scores."
   ]
  },
  {
   "cell_type": "code",
   "execution_count": 627,
   "metadata": {},
   "outputs": [],
   "source": [
    "def baseline_score(model, data):\n",
    "    outcome_var = 'diagnosis'\n",
    "    predictor_var = ['concave points_mean','area_mean','radius_mean','perimeter_mean','concavity_mean']\n",
    "    preds_model = model.predict_proba(data[predictor_var])[:,1]\n",
    "    model_roc_auc = metrics.roc_auc_score(data[outcome_var], preds_model)\n",
    "    print('The baseline score on the test set is {:.4f}.'.format(model_roc_auc))\n",
    "    \n",
    "    return model_roc_auc"
   ]
  },
  {
   "cell_type": "markdown",
   "metadata": {},
   "source": [
    "# Tested parameters \n",
    "The aim of this reasearch is to examine Random Forest, Gradient Boostin or Bagging algorithms in the same specification of trees and compare the results. Two different tree environment was prepared - very poor and more advanced trees. At the end ROC graphs are combined into one graph. \n",
    "\n",
    "Parameters of single small tree: \n",
    "- The number of trees: 2\n",
    "- The function to measure the quality of a split: entropy\n",
    "- The minimum number of samples required to split an internal node: 2\n",
    "- The maximum depth of single tree: 1\n",
    "- Complexity parameter used for Minimal Cost-Complexity Pruning: 0.0\n",
    "\n",
    "Example of single tree with given parameters:\n",
    "<img src=\"SmallTree.png\" width=250 height=250 >\n",
    "\n",
    "Paramters of single big tree: \n",
    "- The number of trees: 100\n",
    "- The function to measure the quality of a split: entropy\n",
    "- The minimum number of samples required to split an internal node: 2\n",
    "- The maximum depth of single tree: 10\n",
    "- Complexity parameter used for Minimal Cost-Complexity Pruning: 0.0\n",
    "Example of single tree with given parameters:\n",
    "<img src=\"BigTree.png\" width=700 height=700 >"
   ]
  },
  {
   "cell_type": "code",
   "execution_count": 628,
   "metadata": {},
   "outputs": [
    {
     "name": "stdout",
     "output_type": "stream",
     "text": [
      "Performance on test dataset for poor model\n",
      "Cross-Validation Score : 86.250%\n",
      "Cross-Validation Score : 85.000%\n",
      "Cross-Validation Score : 86.667%\n",
      "Cross-Validation Score : 88.101%\n",
      "Cross-Validation Score : 88.709%\n"
     ]
    }
   ],
   "source": [
    "traindf, testdf = train_test_split(data, test_size = 0.3)\n",
    "predictor_var = ['concave points_mean','area_mean','radius_mean','perimeter_mean','concavity_mean']\n",
    "model = RandomForestClassifier(n_estimators=2,ccp_alpha = 0.0, criterion = \"entropy\",min_samples_split=2, max_depth=1, max_features=len(predictor_var))\n",
    "outcome_var = 'diagnosis'\n",
    "out = ['1','0']\n",
    "#run_kfold(model, traindf,predictor_var, outcome_var)\n",
    "\n",
    "#rf_roc_auc_test = baseline_score(model,traindf[predictor_var])\n",
    "print(\"Performance on test dataset for poor model\")\n",
    "run_kfold(model, traindf,predictor_var, outcome_var)\n",
    "rf_1_fpr, rf_1_tpr, rf_1_thresholds = metrics.roc_curve(testdf[outcome_var], model.predict_proba(testdf[predictor_var])[:,1])\n",
    "\n",
    "#plt.plot(rf_fpr, rf_tpr, label='RF (area = %0.4f)' % rf_roc_auc)\n",
    "estimator = model.estimators_[0]\n",
    "export_graphviz(estimator, \n",
    "                out_file='RandomForestTree_noprunning.dot', \n",
    "                feature_names = predictor_var,\n",
    "                class_names = out,\n",
    "                rounded = True, proportion = False, \n",
    "                precision = 2, filled = True)"
   ]
  },
  {
   "cell_type": "code",
   "execution_count": 629,
   "metadata": {},
   "outputs": [
    {
     "name": "stdout",
     "output_type": "stream",
     "text": [
      "Performance on test dataset for advanced model\n",
      "Cross-Validation Score : 90.000%\n",
      "Cross-Validation Score : 90.625%\n",
      "Cross-Validation Score : 90.833%\n",
      "Cross-Validation Score : 90.593%\n",
      "Cross-Validation Score : 90.956%\n",
      "The baseline score on the test set is 0.9669.\n"
     ]
    }
   ],
   "source": [
    "model_advanced = RandomForestClassifier(n_estimators=100,ccp_alpha = 0.0, criterion = \"entropy\",min_samples_split=2, max_depth=10, max_features=5)\n",
    "\n",
    "print(\"Performance on test dataset for advanced model\")\n",
    "run_kfold(model_advanced, traindf,predictor_var, outcome_var)\n",
    "rf_2_roc_auc = baseline_score(model_advanced,testdf)\n",
    "rf_2_fpr, rf_2_tpr, rf_2_thresholds = metrics.roc_curve(testdf[outcome_var], model_advanced.predict_proba(testdf[predictor_var])[:,1])\n",
    "\n",
    "estimator = model_advanced.estimators_[0]\n",
    "export_graphviz(estimator, \n",
    "                out_file='RandomForestTree_better.dot', \n",
    "                feature_names = predictor_var,\n",
    "                class_names = out,\n",
    "                rounded = True, proportion = False, \n",
    "                precision = 2, filled = True)"
   ]
  },
  {
   "cell_type": "markdown",
   "metadata": {},
   "source": [
    "# Gradient Boosting Classifier \n"
   ]
  },
  {
   "cell_type": "code",
   "execution_count": 630,
   "metadata": {
    "scrolled": true
   },
   "outputs": [
    {
     "name": "stdout",
     "output_type": "stream",
     "text": [
      "Performance on test dataset\n",
      "Cross-Validation Score : 56.250%\n",
      "Cross-Validation Score : 57.500%\n",
      "Cross-Validation Score : 58.750%\n",
      "Cross-Validation Score : 58.619%\n",
      "Cross-Validation Score : 65.377%\n",
      "The baseline score on the test set is 0.9184.\n"
     ]
    }
   ],
   "source": [
    "model = GradientBoostingClassifier(ccp_alpha = 0.0,n_estimators=2, min_samples_split=2, max_depth=1, max_features=5)\n",
    "outcome_var = 'diagnosis'\n",
    "out = ['1','0']\n",
    "\n",
    "print(\"Performance on test dataset\")\n",
    "run_kfold(model, traindf,predictor_var, outcome_var)\n",
    "\n",
    "gb_roc_auc = baseline_score(model,testdf)\n",
    "gb_fpr, gb_tpr, gb_thresholds = metrics.roc_curve(testdf[outcome_var], model.predict_proba(testdf[predictor_var])[:,1])\n"
   ]
  },
  {
   "cell_type": "code",
   "execution_count": 631,
   "metadata": {},
   "outputs": [
    {
     "name": "stdout",
     "output_type": "stream",
     "text": [
      "Performance on test dataset\n",
      "Cross-Validation Score : 87.500%\n",
      "Cross-Validation Score : 89.375%\n",
      "Cross-Validation Score : 89.583%\n",
      "Cross-Validation Score : 89.339%\n",
      "Cross-Validation Score : 88.940%\n",
      "The baseline score on the test set is 0.9657.\n"
     ]
    }
   ],
   "source": [
    "model_advanced = GradientBoostingClassifier(ccp_alpha = 0.0,n_estimators=100, min_samples_split=2, max_depth=10, max_features=5)\n",
    "outcome_var = 'diagnosis'\n",
    "out = ['1','0']\n",
    "\n",
    "print(\"Performance on test dataset\")\n",
    "run_kfold(model_advanced, traindf,predictor_var, outcome_var)\n",
    "\n",
    "gb_2_roc_auc = baseline_score(model_advanced,testdf)\n",
    "gb_2_fpr, gb_2_tpr, gb_2_thresholds = metrics.roc_curve(testdf[outcome_var], model.predict_proba(testdf[predictor_var])[:,1])\n"
   ]
  },
  {
   "cell_type": "markdown",
   "metadata": {},
   "source": [
    "# Bagging Classifier "
   ]
  },
  {
   "cell_type": "code",
   "execution_count": 632,
   "metadata": {},
   "outputs": [
    {
     "name": "stdout",
     "output_type": "stream",
     "text": [
      "Performance on test dataset\n",
      "Cross-Validation Score : 87.500%\n",
      "Cross-Validation Score : 86.875%\n",
      "Cross-Validation Score : 87.500%\n",
      "Cross-Validation Score : 88.093%\n",
      "Cross-Validation Score : 89.209%\n",
      "The baseline score on the test set is 0.9262.\n"
     ]
    }
   ],
   "source": [
    "model = BaggingClassifier(n_estimators=2)\n",
    "outcome_var = 'diagnosis'\n",
    "out = ['1','0']\n",
    "print(\"Performance on test dataset\")\n",
    "run_kfold(model, traindf,predictor_var, outcome_var)\n",
    "b_roc_auc = baseline_score(model,testdf)\n",
    "b_fpr, b_tpr, b_thresholds = metrics.roc_curve(testdf[outcome_var], model.predict_proba(testdf[predictor_var])[:,1])\n",
    "\n",
    "\n"
   ]
  },
  {
   "cell_type": "code",
   "execution_count": 633,
   "metadata": {},
   "outputs": [
    {
     "name": "stdout",
     "output_type": "stream",
     "text": [
      "Performance on test dataset\n",
      "Cross-Validation Score : 90.000%\n",
      "Cross-Validation Score : 90.000%\n",
      "Cross-Validation Score : 90.833%\n",
      "Cross-Validation Score : 90.593%\n",
      "Cross-Validation Score : 91.209%\n",
      "The baseline score on the test set is 0.9675.\n"
     ]
    }
   ],
   "source": [
    "model_advanced = BaggingClassifier(base_estimator = DecisionTreeClassifier(criterion='entropy', max_depth=10), n_estimators=100)\n",
    "print(\"Performance on test dataset\")\n",
    "run_kfold(model_advanced, traindf,predictor_var, outcome_var)\n",
    "b_2_roc_auc = baseline_score(model_advanced,testdf)\n",
    "b_2_fpr, b_2_tpr, b_2_thresholds = metrics.roc_curve(testdf[outcome_var], model_advanced.predict_proba(testdf[predictor_var])[:,1])\n",
    "\n",
    "estimator = model_advanced.estimators_[0]\n",
    "export_graphviz(estimator, \n",
    "                out_file='BaggingClassifier_100.dot', \n",
    "                feature_names = predictor_var,\n",
    "                class_names = out,\n",
    "                rounded = True, proportion = False, \n",
    "                precision = 2, filled = True)\n"
   ]
  },
  {
   "cell_type": "markdown",
   "metadata": {},
   "source": [
    "# Conclusion\n",
    "Three tested estimators have high perfomance. From the above ROC graph it can be observed that the best estimator is Random Forest Classifier.  "
   ]
  },
  {
   "cell_type": "code",
   "execution_count": 634,
   "metadata": {},
   "outputs": [
    {
     "data": {
      "image/png": "[encoded data removed]",
      "text/plain": [
       "<Figure size 432x288 with 1 Axes>"
      ]
     },
     "metadata": {
      "needs_background": "light"
     },
     "output_type": "display_data"
    }
   ],
   "source": [
    "#Plotting\n",
    "plt.plot(gb_fpr, gb_tpr, label='GB (area = %0.4f) n_estimators=2' % gb_roc_auc)\n",
    "plt.plot(gb_2_fpr, gb_2_tpr, label='GB (area = %0.4f) n_estimators=100' % gb_2_roc_auc)\n",
    "plt.plot(b_fpr, b_tpr, label='B (area = %0.4f) n_estimators=2 ' % b_roc_auc)\n",
    "plt.plot(b_2_fpr, b_2_tpr, label='B (area = %0.4f) n_estimators=100 ' % b_2_roc_auc)\n",
    "plt.plot(rf_1_fpr, rf_1_tpr, label='RF (area = %0.4f) n_estimators=2' % rf_roc_auc)\n",
    "plt.plot(rf_2_fpr, rf_2_tpr, label='RF (area = %0.4f) n_estimators=100' % rf_2_roc_auc)\n",
    "plt.xlabel('False Positive Rate')\n",
    "plt.ylabel('True Positive Rate')\n",
    "plt.title('ROC Graph')\n",
    "plt.legend(loc=\"lower right\")\n",
    "plt.show()\n"
   ]
  },
  {
   "cell_type": "markdown",
   "metadata": {},
   "source": [
    "During this reasearch we examined three the most popular estimators - Random Forest, Gradient Boosting and Bagging. The most accurate is Random Forest classifier. It is said that more number of estimators are picked it may results in better estimation. However, the best one Random Forest is with only one estimator. It is correleted with input data from which we can observe that 'concavity mean' parameter groups straight forward two outcome parameters. But it  should not be the only one and crucial parameter, because it may lead to overtraining of classification model having different dataset. In this case, increasing number of estimators it reduces prediction of classifier, but it gives opportunity to consider others dependencies. So, as a result we can sum up this research that number of estimators should be considered and tested with different values. But we should keep in mind that the more features are considered the more sensitve estimator is. "
   ]
  }
 ],
 "metadata": {
  "kernelspec": {
   "display_name": "Python 3",
   "language": "python",
   "name": "python3"
  },
  "language_info": {
   "codemirror_mode": {
    "name": "ipython",
    "version": 3
   },
   "file_extension": ".py",
   "mimetype": "text/x-python",
   "name": "python",
   "nbconvert_exporter": "python",
   "pygments_lexer": "ipython3",
   "version": "3.7.6"
  }
 },
 "nbformat": 4,
 "nbformat_minor": 4
}
